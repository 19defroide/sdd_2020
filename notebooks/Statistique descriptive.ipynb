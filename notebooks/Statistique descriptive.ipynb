{
 "cells": [
  {
   "cell_type": "markdown",
   "metadata": {},
   "source": [
    "## Génération de figures pour le chapitre « Statistique descriptive »."
   ]
  },
  {
   "cell_type": "code",
   "execution_count": 1,
   "metadata": {},
   "outputs": [
    {
     "name": "stdout",
     "output_type": "stream",
     "text": [
      "Using matplotlib backend: Qt5Agg\n",
      "Populating the interactive namespace from numpy and matplotlib\n"
     ]
    }
   ],
   "source": [
    "%pylab"
   ]
  },
  {
   "cell_type": "code",
   "execution_count": 2,
   "metadata": {},
   "outputs": [],
   "source": [
    "plt.rc('font', **{'family':'sans', 'size': 16})"
   ]
  },
  {
   "cell_type": "code",
   "execution_count": 3,
   "metadata": {},
   "outputs": [],
   "source": [
    "import pandas as pd"
   ]
  },
  {
   "cell_type": "code",
   "execution_count": 4,
   "metadata": {},
   "outputs": [],
   "source": [
    "import scipy.stats as st"
   ]
  },
  {
   "cell_type": "code",
   "execution_count": 6,
   "metadata": {},
   "outputs": [],
   "source": [
    "import re"
   ]
  },
  {
   "cell_type": "code",
   "execution_count": 8,
   "metadata": {},
   "outputs": [
    {
     "data": {
      "text/plain": [
       "0.18181818181818182"
      ]
     },
     "execution_count": 8,
     "metadata": {},
     "output_type": "execute_result"
    }
   ],
   "source": [
    "2./11"
   ]
  },
  {
   "cell_type": "markdown",
   "metadata": {},
   "source": [
    "## Données de remboursement"
   ]
  },
  {
   "cell_type": "code",
   "execution_count": 154,
   "metadata": {},
   "outputs": [],
   "source": [
    "df = pd.read_csv('../data/OPEN_BIO_2018_7325.csv')"
   ]
  },
  {
   "cell_type": "code",
   "execution_count": 155,
   "metadata": {},
   "outputs": [
    {
     "data": {
      "text/plain": [
       "604"
      ]
     },
     "execution_count": 155,
     "metadata": {},
     "output_type": "execute_result"
    }
   ],
   "source": [
    "len(df)"
   ]
  },
  {
   "cell_type": "code",
   "execution_count": 11,
   "metadata": {},
   "outputs": [],
   "source": [
    "# indices = np.random.permutation(len(df))[:20]\n",
    "# indices.sort()\n",
    "# indices\n",
    "indices = np.array([ 35,  54,  91,  97, 100, 120, 130, 159, 168, 176, 195, 289, 329, 388, 404, 424, 499, 504, 536, 555])"
   ]
  },
  {
   "cell_type": "code",
   "execution_count": 12,
   "metadata": {},
   "outputs": [],
   "source": [
    "df_small = df.iloc[indices]"
   ]
  },
  {
   "cell_type": "code",
   "execution_count": 13,
   "metadata": {},
   "outputs": [
    {
     "name": "stdout",
     "output_type": "stream",
     "text": [
      "     AGE  SEXE  BEN_REG   DNB       REM       BSE\n",
      "35    60     2       76    26    377.96    402.80\n",
      "54    60     2       75  1401  14054.37  21332.15\n",
      "91    60     2       44  5299  65928.93  80447.00\n",
      "97    60     2       32  1706  25137.65  26032.65\n",
      "100   60     2       32  2596  37877.02  39336.15\n",
      "120   60     2       27    14    159.85    211.35\n",
      "130   60     2       24  3565  50770.46  54076.15\n",
      "159   60     2       11   396   5226.55   6060.05\n",
      "168   60     2        5   260   4496.91   4676.40\n",
      "176   60     1       93   162   2303.56   2466.10\n",
      "195   60     1       76   578   8499.53   8793.10\n",
      "289   40     2       76    13    172.26    199.80\n",
      "329   40     2       44   102   1204.93   1557.20\n",
      "388   40     2       11    48    555.39    733.05\n",
      "404   40     1       84    14    190.21    217.85\n",
      "424   40     1       32   126   1350.06   1912.15\n",
      "499   20     2       32   749   7941.69  11362.40\n",
      "504   20     2       32    24    289.35    365.25\n",
      "536   20     2        5   918   9704.10  16550.40\n",
      "555   20     1       11   106   1073.32   1618.35\n"
     ]
    }
   ],
   "source": [
    "print(df_small)"
   ]
  },
  {
   "cell_type": "code",
   "execution_count": 45,
   "metadata": {},
   "outputs": [],
   "source": [
    "latex_str = df_small.to_string(header=False,index=False)"
   ]
  },
  {
   "cell_type": "code",
   "execution_count": 57,
   "metadata": {},
   "outputs": [],
   "source": [
    "latex_str = re.sub(' +', ' & ', latex_str)"
   ]
  },
  {
   "cell_type": "code",
   "execution_count": 58,
   "metadata": {},
   "outputs": [
    {
     "data": {
      "text/plain": [
       "' & 60 & 2 & 76 & 26 & 377.96 & 402.80\\n & 60 & 2 & 75 & 1401 & 14054.37 & 21332.15\\n & 60 & 2 & 44 & 5299 & 65928.93 & 80447.00\\n & 60 & 2 & 32 & 1706 & 25137.65 & 26032.65\\n & 60 & 2 & 32 & 2596 & 37877.02 & 39336.15\\n & 60 & 2 & 27 & 14 & 159.85 & 211.35\\n & 60 & 2 & 24 & 3565 & 50770.46 & 54076.15\\n & 60 & 2 & 11 & 396 & 5226.55 & 6060.05\\n & 60 & 2 & 5 & 260 & 4496.91 & 4676.40\\n & 60 & 1 & 93 & 162 & 2303.56 & 2466.10\\n & 60 & 1 & 76 & 578 & 8499.53 & 8793.10\\n & 40 & 2 & 76 & 13 & 172.26 & 199.80\\n & 40 & 2 & 44 & 102 & 1204.93 & 1557.20\\n & 40 & 2 & 11 & 48 & 555.39 & 733.05\\n & 40 & 1 & 84 & 14 & 190.21 & 217.85\\n & 40 & 1 & 32 & 126 & 1350.06 & 1912.15\\n & 20 & 2 & 32 & 749 & 7941.69 & 11362.40\\n & 20 & 2 & 32 & 24 & 289.35 & 365.25\\n & 20 & 2 & 5 & 918 & 9704.10 & 16550.40\\n & 20 & 1 & 11 & 106 & 1073.32 & 1618.35'"
      ]
     },
     "execution_count": 58,
     "metadata": {},
     "output_type": "execute_result"
    }
   ],
   "source": [
    "latex_str"
   ]
  },
  {
   "cell_type": "code",
   "execution_count": 59,
   "metadata": {},
   "outputs": [],
   "source": [
    "latex_str = re.sub('\\n &', '\\\\ \\n', latex_str)"
   ]
  },
  {
   "cell_type": "code",
   "execution_count": 49,
   "metadata": {},
   "outputs": [
    {
     "data": {
      "text/plain": [
       "' 60  2  76    26    377.96    402.80\\n 60  2  75  1401  14054.37  21332.15\\n 60  2  44  5299  65928.93  80447.00\\n 60  2  32  1706  25137.65  26032.65\\n 60  2  32  2596  37877.02  39336.15\\n 60  2  27    14    159.85    211.35\\n 60  2  24  3565  50770.46  54076.15\\n 60  2  11   396   5226.55   6060.05\\n 60  2   5   260   4496.91   4676.40\\n 60  1  93   162   2303.56   2466.10\\n 60  1  76   578   8499.53   8793.10\\n 40  2  76    13    172.26    199.80\\n 40  2  44   102   1204.93   1557.20\\n 40  2  11    48    555.39    733.05\\n 40  1  84    14    190.21    217.85\\n 40  1  32   126   1350.06   1912.15\\n 20  2  32   749   7941.69  11362.40\\n 20  2  32    24    289.35    365.25\\n 20  2   5   918   9704.10  16550.40\\n 20  1  11   106   1073.32   1618.35'"
      ]
     },
     "execution_count": 49,
     "metadata": {},
     "output_type": "execute_result"
    }
   ],
   "source": [
    "latex_str.replace('\\t', ';')"
   ]
  },
  {
   "cell_type": "markdown",
   "metadata": {},
   "source": [
    "### Tables de fréquences (small dataset)"
   ]
  },
  {
   "cell_type": "code",
   "execution_count": 200,
   "metadata": {},
   "outputs": [],
   "source": [
    "regions = unique(df_small['BEN_REG'])\n",
    "ages = unique(df_small['AGE'])"
   ]
  },
  {
   "cell_type": "code",
   "execution_count": 71,
   "metadata": {},
   "outputs": [],
   "source": [
    "counts = [len(np.where(df_small['AGE']==class_idx)[0]) for class_idx in ages]"
   ]
  },
  {
   "cell_type": "code",
   "execution_count": 76,
   "metadata": {},
   "outputs": [],
   "source": [
    "frequencies = [float(count)/len(df_small) for count in counts]"
   ]
  },
  {
   "cell_type": "code",
   "execution_count": 77,
   "metadata": {},
   "outputs": [
    {
     "name": "stdout",
     "output_type": "stream",
     "text": [
      "['0.20', '0.25', '0.55']\n"
     ]
    }
   ],
   "source": [
    "print(['%.2f' % freq for freq in frequencies])"
   ]
  },
  {
   "cell_type": "code",
   "execution_count": 80,
   "metadata": {},
   "outputs": [
    {
     "data": {
      "text/plain": [
       "['0.20', '0.25', '0.55']"
      ]
     },
     "execution_count": 80,
     "metadata": {},
     "output_type": "execute_result"
    }
   ],
   "source": [
    "['%.2f' % freq for freq in [float(len(np.where(df_small['AGE']==class_idx)[0]))/(len(df_small)) \\\n",
    "                                for class_idx in ages]]"
   ]
  },
  {
   "cell_type": "code",
   "execution_count": 81,
   "metadata": {},
   "outputs": [
    {
     "data": {
      "text/plain": [
       "['0.19', '0.31', '0.43']"
      ]
     },
     "execution_count": 81,
     "metadata": {},
     "output_type": "execute_result"
    }
   ],
   "source": [
    "['%.2f' % freq for freq in [float(len(np.where(df['AGE']==class_idx)[0]))/(len(df)) \\\n",
    "                                for class_idx in ages]]"
   ]
  },
  {
   "cell_type": "code",
   "execution_count": 91,
   "metadata": {},
   "outputs": [
    {
     "data": {
      "image/png": "[encoded data removed]",
      "text/plain": [
       "<Figure size 432x288 with 1 Axes>"
      ]
     },
     "metadata": {
      "needs_background": "light"
     },
     "output_type": "display_data"
    }
   ],
   "source": [
    "plt.bar(range(len(ages)), frequencies, width=0.5, tick_label=['20 ­ 39', '40 ­ 59', '60+'])\n",
    "plt.xlabel(\"Tranche d'âge\")\n",
    "plt.ylabel(\"Fréquence\")\n",
    "#plt.savefig('../poly/figures/stats/remboursement_age_bars.png', bbox_inches='tight')"
   ]
  },
  {
   "cell_type": "markdown",
   "metadata": {},
   "source": [
    "### Tables de fréquences (full dataset)"
   ]
  },
  {
   "cell_type": "code",
   "execution_count": 251,
   "metadata": {},
   "outputs": [],
   "source": [
    "regions = unique(df['BEN_REG'])\n",
    "ages = unique(df['AGE'])"
   ]
  },
  {
   "cell_type": "code",
   "execution_count": 252,
   "metadata": {},
   "outputs": [],
   "source": [
    "df = df[df['BEN_REG']!=99]"
   ]
  },
  {
   "cell_type": "code",
   "execution_count": 253,
   "metadata": {},
   "outputs": [],
   "source": [
    "regions = unique(df['BEN_REG'])\n",
    "ages = unique(df['AGE'])"
   ]
  },
  {
   "cell_type": "code",
   "execution_count": 254,
   "metadata": {},
   "outputs": [],
   "source": [
    "counts = [len(np.where(df['AGE']==class_idx)[0]) for class_idx in ages]"
   ]
  },
  {
   "cell_type": "code",
   "execution_count": 255,
   "metadata": {},
   "outputs": [],
   "source": [
    "frequencies = [float(count)/len(df) for count in counts]"
   ]
  },
  {
   "cell_type": "code",
   "execution_count": 256,
   "metadata": {},
   "outputs": [
    {
     "name": "stdout",
     "output_type": "stream",
     "text": [
      "['0.07', '0.18', '0.31', '0.44']\n"
     ]
    }
   ],
   "source": [
    "print(['%.2f' % freq for freq in frequencies])"
   ]
  },
  {
   "cell_type": "code",
   "execution_count": 257,
   "metadata": {},
   "outputs": [
    {
     "data": {
      "text/plain": [
       "['0.00', '0.20', '0.25', '0.55']"
      ]
     },
     "execution_count": 257,
     "metadata": {},
     "output_type": "execute_result"
    }
   ],
   "source": [
    "['%.2f' % freq for freq in [float(len(np.where(df_small['AGE']==class_idx)[0]))/(len(df_small)) \\\n",
    "                                for class_idx in ages]]"
   ]
  },
  {
   "cell_type": "code",
   "execution_count": 258,
   "metadata": {},
   "outputs": [
    {
     "data": {
      "text/plain": [
       "['0.07', '0.18', '0.31', '0.44']"
      ]
     },
     "execution_count": 258,
     "metadata": {},
     "output_type": "execute_result"
    }
   ],
   "source": [
    "['%.2f' % freq for freq in [float(len(np.where(df['AGE']==class_idx)[0]))/(len(df)) \\\n",
    "                                for class_idx in ages]]"
   ]
  },
  {
   "cell_type": "code",
   "execution_count": 261,
   "metadata": {},
   "outputs": [
    {
     "data": {
      "image/png": "[encoded data removed]",
      "text/plain": [
       "<Figure size 432x288 with 1 Axes>"
      ]
     },
     "metadata": {
      "needs_background": "light"
     },
     "output_type": "display_data"
    }
   ],
   "source": [
    "plt.bar(range(len(ages)), frequencies, width=0.5, tick_label=['0 ­ 19', '20 ­ 39', '40 ­ 59', '60+'])\n",
    "plt.xlabel(\"Tranche d'âge\")\n",
    "plt.ylabel(\"Fréquence\")\n",
    "plt.savefig('../poly/figures/stats/remboursement_age_bars.png', bbox_inches='tight')"
   ]
  },
  {
   "cell_type": "markdown",
   "metadata": {},
   "source": [
    "### Montants remboursés par acte, par tranche d'âge (small dataset)"
   ]
  },
  {
   "cell_type": "code",
   "execution_count": 185,
   "metadata": {},
   "outputs": [],
   "source": [
    "rem_par_acte = df_small['REM']/df_small['DNB']"
   ]
  },
  {
   "cell_type": "code",
   "execution_count": 186,
   "metadata": {},
   "outputs": [],
   "source": [
    "rpa_stratified = [rem_par_acte[df_small['AGE'] == age] for age in ages]"
   ]
  },
  {
   "cell_type": "code",
   "execution_count": 187,
   "metadata": {},
   "outputs": [
    {
     "data": {
      "image/png": "[encoded data removed]",
      "text/plain": [
       "<Figure size 432x288 with 1 Axes>"
      ]
     },
     "metadata": {
      "needs_background": "light"
     },
     "output_type": "display_data"
    }
   ],
   "source": [
    "fig = plt.figure(figsize=(6, 4))\n",
    "plt.boxplot(rpa_stratified)\n",
    "for (ix, age) in enumerate(ages):\n",
    "    #plt.boxplot(y)\n",
    "    y = rem_par_acte[df_small['AGE'] == age]\n",
    "    x = np.random.normal((ix+1), 0.02, size=len(y))\n",
    "    plot(x, y, alpha=0.5, ms=14)\n",
    "plt.xlabel('Âge (ans)')\n",
    "plt.ylabel('Montant remboursé (EUR)')\n",
    "t=plt.xticks([1, 2, 3], ['20 ­ 39', '40 ­ 59', '60+'])\n",
    "#plt.savefig('../poly/figures/stats/remboursement_rembourses_age.png', bbox_inches='tight')"
   ]
  },
  {
   "cell_type": "code",
   "execution_count": 208,
   "metadata": {},
   "outputs": [
    {
     "name": "stdout",
     "output_type": "stream",
     "text": [
      "Variance résiduelle : 2.27\n"
     ]
    }
   ],
   "source": [
    "rpa_var = [np.std(r)**2 for r in rpa_stratified]\n",
    "rpa_len = [len(r) for r in rpa_stratified]\n",
    "sr = np.sum(np.array(rpa_len)*np.array(rpa_var))/len(df_small)\n",
    "print(\"Variance résiduelle : %.2f\" % sr)"
   ]
  },
  {
   "cell_type": "code",
   "execution_count": 210,
   "metadata": {},
   "outputs": [
    {
     "name": "stdout",
     "output_type": "stream",
     "text": [
      "Variance expliquée par l'âge : 1.37\n"
     ]
    }
   ],
   "source": [
    "rpa_dist2 = [(np.mean(r) - np.mean(rem_par_acte))**2 for r in rpa_stratified]\n",
    "se = np.sum(np.array(rpa_len)*np.array(rpa_dist2))/len(df_small)\n",
    "print(\"Variance expliquée par l'âge : %.2f\" % se)"
   ]
  },
  {
   "cell_type": "code",
   "execution_count": 206,
   "metadata": {},
   "outputs": [
    {
     "name": "stdout",
     "output_type": "stream",
     "text": [
      "Variance totale : 3.65\n"
     ]
    }
   ],
   "source": [
    "print(\"Variance totale : %.2f\" % (np.std(rem_par_acte)**2))"
   ]
  },
  {
   "cell_type": "code",
   "execution_count": 212,
   "metadata": {},
   "outputs": [
    {
     "name": "stdout",
     "output_type": "stream",
     "text": [
      "Rapport de corrélation : 0.38\n"
     ]
    }
   ],
   "source": [
    "print(\"Rapport de corrélation : %.2f\" % (se/np.std(rem_par_acte)**2))"
   ]
  },
  {
   "cell_type": "markdown",
   "metadata": {},
   "source": [
    "### Montants remboursés par acte, par tranche d'âge (full dataset)"
   ]
  },
  {
   "cell_type": "code",
   "execution_count": 262,
   "metadata": {},
   "outputs": [],
   "source": [
    "rem_par_acte = df['REM']/df['DNB']"
   ]
  },
  {
   "cell_type": "code",
   "execution_count": 263,
   "metadata": {},
   "outputs": [],
   "source": [
    "rpa_stratified = [rem_par_acte[df['AGE'] == age] for age in ages]"
   ]
  },
  {
   "cell_type": "code",
   "execution_count": 264,
   "metadata": {},
   "outputs": [
    {
     "data": {
      "image/png": "[encoded data removed]",
      "text/plain": [
       "<Figure size 432x288 with 1 Axes>"
      ]
     },
     "metadata": {
      "needs_background": "light"
     },
     "output_type": "display_data"
    }
   ],
   "source": [
    "fig = plt.figure(figsize=(6, 4))\n",
    "plt.boxplot(rpa_stratified)\n",
    "for (ix, age) in enumerate(ages):\n",
    "    #plt.boxplot(y)\n",
    "    y = rem_par_acte[df['AGE'] == age]\n",
    "    x = np.random.normal((ix+1), 0.02, size=len(y))\n",
    "    plot(x, y, alpha=0.8)\n",
    "plt.xlabel('Âge (ans)')\n",
    "plt.ylabel('Montant remboursé (EUR)')\n",
    "t=plt.xticks([1, 2, 3, 4], ['10 ­ 19', '20 ­ 39', '40 ­ 59', '60+'])\n",
    "plt.savefig('../poly/figures/stats/remboursement_rembourses_age.png', bbox_inches='tight')"
   ]
  },
  {
   "cell_type": "code",
   "execution_count": 265,
   "metadata": {},
   "outputs": [
    {
     "name": "stdout",
     "output_type": "stream",
     "text": [
      "Variance résiduelle : 2.22\n"
     ]
    }
   ],
   "source": [
    "rpa_var = [np.std(r)**2 for r in rpa_stratified]\n",
    "rpa_len = [len(r) for r in rpa_stratified]\n",
    "sr = np.sum(np.array(rpa_len)*np.array(rpa_var))/len(df)\n",
    "print(\"Variance résiduelle : %.2f\" % sr)"
   ]
  },
  {
   "cell_type": "code",
   "execution_count": 267,
   "metadata": {},
   "outputs": [
    {
     "name": "stdout",
     "output_type": "stream",
     "text": [
      "Variance expliquée par l'âge : 1.09\n"
     ]
    }
   ],
   "source": [
    "rpa_dist2 = [(np.mean(r) - np.mean(rem_par_acte))**2 for r in rpa_stratified]\n",
    "se = np.sum(np.array(rpa_len)*np.array(rpa_dist2))/len(df)\n",
    "print(\"Variance expliquée par l'âge : %.2f\" % se)"
   ]
  },
  {
   "cell_type": "code",
   "execution_count": 268,
   "metadata": {},
   "outputs": [
    {
     "name": "stdout",
     "output_type": "stream",
     "text": [
      "Variance totale : 3.30\n"
     ]
    }
   ],
   "source": [
    "print(\"Variance totale : %.2f\" % (np.std(rem_par_acte)**2))"
   ]
  },
  {
   "cell_type": "code",
   "execution_count": 227,
   "metadata": {},
   "outputs": [
    {
     "name": "stdout",
     "output_type": "stream",
     "text": [
      "Rapport de corrélation : 0.33\n"
     ]
    }
   ],
   "source": [
    "print(\"Rapport de corrélation : %.2f\" % (se/np.std(rem_par_acte)**2))"
   ]
  },
  {
   "cell_type": "markdown",
   "metadata": {},
   "source": [
    "### Contingence (small dataset)"
   ]
  },
  {
   "cell_type": "code",
   "execution_count": 14,
   "metadata": {},
   "outputs": [
    {
     "data": {
      "text/html": [
       "<div>\n",
       "<style scoped>\n",
       "    .dataframe tbody tr th:only-of-type {\n",
       "        vertical-align: middle;\n",
       "    }\n",
       "\n",
       "    .dataframe tbody tr th {\n",
       "        vertical-align: top;\n",
       "    }\n",
       "\n",
       "    .dataframe thead th {\n",
       "        text-align: right;\n",
       "    }\n",
       "</style>\n",
       "<table border=\"1\" class=\"dataframe\">\n",
       "  <thead>\n",
       "    <tr style=\"text-align: right;\">\n",
       "      <th></th>\n",
       "      <th>AGE</th>\n",
       "      <th>SEXE</th>\n",
       "      <th>BEN_REG</th>\n",
       "      <th>DNB</th>\n",
       "      <th>REM</th>\n",
       "      <th>BSE</th>\n",
       "    </tr>\n",
       "  </thead>\n",
       "  <tbody>\n",
       "    <tr>\n",
       "      <td>424</td>\n",
       "      <td>40</td>\n",
       "      <td>1</td>\n",
       "      <td>32</td>\n",
       "      <td>126</td>\n",
       "      <td>1350.06</td>\n",
       "      <td>1912.15</td>\n",
       "    </tr>\n",
       "  </tbody>\n",
       "</table>\n",
       "</div>"
      ],
      "text/plain": [
       "     AGE  SEXE  BEN_REG  DNB      REM      BSE\n",
       "424   40     1       32  126  1350.06  1912.15"
      ]
     },
     "execution_count": 14,
     "metadata": {},
     "output_type": "execute_result"
    }
   ],
   "source": [
    "df_small[(df_small['BEN_REG'] == 32) & (df_small['AGE'] == 40)] "
   ]
  },
  {
   "cell_type": "code",
   "execution_count": 19,
   "metadata": {},
   "outputs": [],
   "source": [
    "contingence = [[len(df_small[(df_small['BEN_REG'] == reg) & (df_small['AGE'] == age)]) \\\n",
    "                for reg in regions] for age in ages]"
   ]
  },
  {
   "cell_type": "code",
   "execution_count": 20,
   "metadata": {},
   "outputs": [
    {
     "data": {
      "text/plain": [
       "[[1, 1, 0, 0, 2, 0, 0, 0, 0, 0],\n",
       " [0, 1, 0, 0, 1, 1, 0, 1, 1, 0],\n",
       " [1, 1, 1, 1, 2, 1, 1, 2, 0, 1]]"
      ]
     },
     "execution_count": 20,
     "metadata": {},
     "output_type": "execute_result"
    }
   ],
   "source": [
    "contingence"
   ]
  },
  {
   "cell_type": "code",
   "execution_count": 23,
   "metadata": {},
   "outputs": [
    {
     "data": {
      "text/plain": [
       "20"
      ]
     },
     "execution_count": 23,
     "metadata": {},
     "output_type": "execute_result"
    }
   ],
   "source": [
    "n_tot = np.sum(contingence)\n",
    "n_tot"
   ]
  },
  {
   "cell_type": "code",
   "execution_count": 25,
   "metadata": {},
   "outputs": [
    {
     "data": {
      "text/plain": [
       "array([2, 3, 1, 1, 5, 2, 1, 3, 1, 1])"
      ]
     },
     "execution_count": 25,
     "metadata": {},
     "output_type": "execute_result"
    }
   ],
   "source": [
    "n_col = np.sum(contingence, axis=0)\n",
    "n_col"
   ]
  },
  {
   "cell_type": "code",
   "execution_count": 26,
   "metadata": {},
   "outputs": [
    {
     "data": {
      "text/plain": [
       "array([ 4,  5, 11])"
      ]
     },
     "execution_count": 26,
     "metadata": {},
     "output_type": "execute_result"
    }
   ],
   "source": [
    "n_lig = np.sum(contingence, axis=1)\n",
    "n_lig"
   ]
  },
  {
   "cell_type": "code",
   "execution_count": 33,
   "metadata": {},
   "outputs": [],
   "source": [
    "n_col = n_col.reshape((len(n_col), 1))\n",
    "n_lig = n_lig.reshape((len(n_lig), 1))"
   ]
  },
  {
   "cell_type": "code",
   "execution_count": 46,
   "metadata": {},
   "outputs": [],
   "source": [
    "expected = n_lig.dot(n_col.T)/(n_tot)\n",
    "np.sum((contingence - expected)**2/expected)"
   ]
  },
  {
   "cell_type": "code",
   "execution_count": 66,
   "metadata": {},
   "outputs": [],
   "source": [
    "regions_dict = {5: \"Régions et Départements d’outre-mer\",\n",
    "                11: \"Ile-de-France\",\n",
    "                24: \"Centre-Val de Loire\",\n",
    "                27: \"Bourgogne-Franche-Comté\",\n",
    "                32: \"Hauts-de-France\",\n",
    "                44: \"Grand-Est\",\n",
    "                75: \"Nouvelle-Aquitaine\",\n",
    "                76: \"Occitanie\",\n",
    "                84: \"Auvergne-Rhône-Alpes\",\n",
    "                93: \"Provence-Alpes-Côte d’Azur et Corse\"}"
   ]
  },
  {
   "cell_type": "code",
   "execution_count": 151,
   "metadata": {},
   "outputs": [
    {
     "data": {
      "image/png": "[encoded data removed]",
      "text/plain": [
       "<Figure size 432x288 with 1 Axes>"
      ]
     },
     "metadata": {
      "needs_background": "light"
     },
     "output_type": "display_data"
    }
   ],
   "source": [
    "age_ranges = ['20 ­ 39', '40 ­ 59', '60+']\n",
    "labels = [regions_dict[r] for r in regions]\n",
    "# Percentage of individuals in this age range within each region\n",
    "profils_lig = np.array(contingence)/np.repeat(n_col.T, 3, axis=0)\n",
    "previous_profile = np.zeros((len(labels), ))\n",
    "for age_idx, profile in enumerate(profils_lig):\n",
    "    # print(profile)\n",
    "    plt.barh(labels, profile, height=0.75, left=previous_profile, label=age_ranges[age_idx])\n",
    "    previous_profile += profile\n",
    "plt.yticks(fontsize=12)\n",
    "plt.legend(title=\"Âge\", loc=(1.01, 0.5), frameon=False)\n",
    "plt.ylabel(\"Région\")\n",
    "#plt.savefig('../poly/figures/stats/remboursement_age_region_cols.png', bbox_inches='tight')"
   ]
  },
  {
   "cell_type": "code",
   "execution_count": 153,
   "metadata": {},
   "outputs": [
    {
     "data": {
      "image/png": "[encoded data removed]",
      "text/plain": [
       "<Figure size 432x288 with 1 Axes>"
      ]
     },
     "metadata": {
      "needs_background": "light"
     },
     "output_type": "display_data"
    }
   ],
   "source": [
    "labels = ['20 ­ 39', '40 ­ 59', '60+']\n",
    "region_names = [regions_dict[r] for r in regions]\n",
    "\n",
    "profils_col = np.array(contingence)/np.repeat(n_lig, 10, axis=1)\n",
    "previous_profile = np.zeros((len(labels), ))\n",
    "for r_idx, profile in enumerate(profils_col.T):\n",
    "    plt.bar(labels, profile, width=0.75, bottom=previous_profile, label=region_names[r_idx])\n",
    "    previous_profile += profile\n",
    "\n",
    "plt.legend(title=\"Région\", loc=(1.01, 0.01), frameon=False, fontsize=12)\n",
    "plt.xlabel(\"Âge\")\n",
    "#plt.savefig('../poly/figures/stats/remboursement_age_region_lines.png', bbox_inches='tight')"
   ]
  },
  {
   "cell_type": "markdown",
   "metadata": {},
   "source": [
    "### Contingence (full dataset)"
   ]
  },
  {
   "cell_type": "code",
   "execution_count": 273,
   "metadata": {},
   "outputs": [],
   "source": [
    "contingence = [[len(df[(df['BEN_REG'] == reg) & (df['AGE'] == age)]) \\\n",
    "                for reg in regions] for age in ages]"
   ]
  },
  {
   "cell_type": "code",
   "execution_count": 274,
   "metadata": {},
   "outputs": [
    {
     "data": {
      "text/plain": [
       "array([ 5, 11, 24, 27, 28, 32, 44, 52, 53, 75, 76, 84, 93])"
      ]
     },
     "execution_count": 274,
     "metadata": {},
     "output_type": "execute_result"
    }
   ],
   "source": [
    "regions"
   ]
  },
  {
   "cell_type": "code",
   "execution_count": 275,
   "metadata": {},
   "outputs": [
    {
     "data": {
      "text/plain": [
       "[[3, 5, 3, 3, 3, 3, 4, 3, 2, 3, 3, 4, 4],\n",
       " [8, 18, 4, 7, 4, 9, 11, 6, 4, 7, 8, 10, 11],\n",
       " [11, 26, 11, 13, 13, 16, 15, 10, 8, 12, 17, 15, 19],\n",
       " [15, 31, 18, 16, 21, 21, 22, 12, 12, 19, 24, 23, 26]]"
      ]
     },
     "execution_count": 275,
     "metadata": {},
     "output_type": "execute_result"
    }
   ],
   "source": [
    "contingence"
   ]
  },
  {
   "cell_type": "code",
   "execution_count": 276,
   "metadata": {},
   "outputs": [
    {
     "data": {
      "text/plain": [
       "596"
      ]
     },
     "execution_count": 276,
     "metadata": {},
     "output_type": "execute_result"
    }
   ],
   "source": [
    "n_tot = np.sum(contingence)\n",
    "n_tot"
   ]
  },
  {
   "cell_type": "code",
   "execution_count": 277,
   "metadata": {},
   "outputs": [
    {
     "data": {
      "text/plain": [
       "array([37, 80, 36, 39, 41, 49, 52, 31, 26, 41, 52, 52, 60])"
      ]
     },
     "execution_count": 277,
     "metadata": {},
     "output_type": "execute_result"
    }
   ],
   "source": [
    "n_col = np.sum(contingence, axis=0)\n",
    "n_col"
   ]
  },
  {
   "cell_type": "code",
   "execution_count": 278,
   "metadata": {},
   "outputs": [
    {
     "data": {
      "text/plain": [
       "array([ 43, 107, 186, 260])"
      ]
     },
     "execution_count": 278,
     "metadata": {},
     "output_type": "execute_result"
    }
   ],
   "source": [
    "n_lig = np.sum(contingence, axis=1)\n",
    "n_lig"
   ]
  },
  {
   "cell_type": "code",
   "execution_count": 279,
   "metadata": {},
   "outputs": [],
   "source": [
    "n_col = n_col.reshape((len(n_col), 1))\n",
    "n_lig = n_lig.reshape((len(n_lig), 1))"
   ]
  },
  {
   "cell_type": "code",
   "execution_count": 280,
   "metadata": {},
   "outputs": [
    {
     "data": {
      "text/plain": [
       "7.439305519032455"
      ]
     },
     "execution_count": 280,
     "metadata": {},
     "output_type": "execute_result"
    }
   ],
   "source": [
    "expected = n_lig.dot(n_col.T)/(n_tot)\n",
    "np.sum((contingence - expected)**2/expected)"
   ]
  },
  {
   "cell_type": "code",
   "execution_count": 281,
   "metadata": {},
   "outputs": [],
   "source": [
    "regions_dict = {5: \"Régions et Départements d'outre-mer\",\n",
    "                11: \"Ile-de-France\",\n",
    "                24: \"Centre-Val de Loire\",\n",
    "                27: \"Bourgogne-Franche-Comté\",\n",
    "                28: \"Normandie\",\n",
    "                32: \"Hauts-de-France\",\n",
    "                44: \"Grand-Est\",\n",
    "                52: \"Pays de la Loire\",\n",
    "                53: \"Bretagne\",\n",
    "                75: \"Nouvelle-Aquitaine\",\n",
    "                76: \"Occitanie\",\n",
    "                84: \"Auvergne-Rhône-Alpes\",\n",
    "                93: \"Provence-Alpes-Côte d'Azur et Corse\"}"
   ]
  },
  {
   "cell_type": "code",
   "execution_count": 282,
   "metadata": {},
   "outputs": [
    {
     "data": {
      "image/png": "[encoded data removed]",
      "text/plain": [
       "<Figure size 432x288 with 1 Axes>"
      ]
     },
     "metadata": {
      "needs_background": "light"
     },
     "output_type": "display_data"
    }
   ],
   "source": [
    "age_ranges = ['0 ­ 19', '20 ­ 39', '40 ­ 59', '60+']\n",
    "labels = [regions_dict[r] for r in regions]\n",
    "# Percentage of individuals in this age range within each region\n",
    "profils_lig = np.array(contingence)/np.repeat(n_col.T, len(ages), axis=0)\n",
    "previous_profile = np.zeros((len(labels), ))\n",
    "for age_idx, profile in enumerate(profils_lig):\n",
    "    # print(profile)\n",
    "    plt.barh(labels, profile, height=0.75, left=previous_profile, label=age_ranges[age_idx])\n",
    "    previous_profile += profile\n",
    "plt.yticks(fontsize=12)\n",
    "plt.legend(title=\"Âge\", loc=(1.01, 0.5), frameon=False)\n",
    "plt.ylabel(\"Région\")\n",
    "plt.savefig('../poly/figures/stats/remboursement_age_region_cols.png', bbox_inches='tight')"
   ]
  },
  {
   "cell_type": "code",
   "execution_count": 283,
   "metadata": {},
   "outputs": [
    {
     "data": {
      "image/png": "[encoded data removed]",
      "text/plain": [
       "<Figure size 432x288 with 1 Axes>"
      ]
     },
     "metadata": {
      "needs_background": "light"
     },
     "output_type": "display_data"
    }
   ],
   "source": [
    "age_ranges = ['0 ­ 19', '20 ­ 39', '40 ­ 59', '60+']\n",
    "region_names = [regions_dict[r] for r in regions]\n",
    "\n",
    "profils_col = np.array(contingence)/np.repeat(n_lig, len(regions), axis=1)\n",
    "previous_profile = np.zeros((len(age_ranges), ))\n",
    "for r_idx, profile in enumerate(profils_col.T):\n",
    "    plt.bar(age_ranges, profile, width=0.75, bottom=previous_profile, label=region_names[r_idx])\n",
    "    previous_profile += profile\n",
    "plt.legend(title=\"Région\", loc=(1.01, -0.2), frameon=False, fontsize=12)\n",
    "plt.xlabel(\"Âge\")\n",
    "plt.savefig('../poly/figures/stats/remboursement_age_region_lines.png', bbox_inches='tight')"
   ]
  },
  {
   "cell_type": "markdown",
   "metadata": {},
   "source": [
    "## Données météo"
   ]
  },
  {
   "cell_type": "code",
   "execution_count": 4,
   "metadata": {},
   "outputs": [],
   "source": [
    "meteo = pd.read_csv('../data/meteo_data.csv')"
   ]
  },
  {
   "cell_type": "code",
   "execution_count": 5,
   "metadata": {},
   "outputs": [],
   "source": [
    "t_min = meteo['t_min']"
   ]
  },
  {
   "cell_type": "markdown",
   "metadata": {},
   "source": [
    "### Transformation en série classée"
   ]
  },
  {
   "cell_type": "code",
   "execution_count": 95,
   "metadata": {},
   "outputs": [],
   "source": [
    "num_classes = int(1 + np.log2(len(t_min)))"
   ]
  },
  {
   "cell_type": "code",
   "execution_count": 96,
   "metadata": {},
   "outputs": [
    {
     "name": "stdout",
     "output_type": "stream",
     "text": [
      "5 classes\n"
     ]
    }
   ],
   "source": [
    "print('%d classes' % num_classes)"
   ]
  },
  {
   "cell_type": "code",
   "execution_count": 97,
   "metadata": {},
   "outputs": [],
   "source": [
    "interval_width = (np.max(t_min) - np.min(t_min))/num_classes"
   ]
  },
  {
   "cell_type": "code",
   "execution_count": 98,
   "metadata": {},
   "outputs": [],
   "source": [
    "thresholds = [np.min(t_min) + i*interval_width for i in range(num_classes)]\n",
    "thresholds.append(np.max(t_min))\n",
    "thresholds[0] = np.min(t_min) - 0.1"
   ]
  },
  {
   "cell_type": "code",
   "execution_count": 99,
   "metadata": {},
   "outputs": [
    {
     "name": "stdout",
     "output_type": "stream",
     "text": [
      "['-2.5', '-0.2', '2.1', '4.3', '6.6', '8.8']\n"
     ]
    }
   ],
   "source": [
    "print(['%.1f' % x for x in thresholds])"
   ]
  },
  {
   "cell_type": "code",
   "execution_count": 100,
   "metadata": {},
   "outputs": [
    {
     "data": {
      "text/plain": [
       "2.24"
      ]
     },
     "execution_count": 100,
     "metadata": {},
     "output_type": "execute_result"
    }
   ],
   "source": [
    "interval_width"
   ]
  },
  {
   "cell_type": "code",
   "execution_count": 101,
   "metadata": {},
   "outputs": [],
   "source": [
    "bin_assignment = pd.cut(t_min, bins=thresholds, labels=range(num_classes))"
   ]
  },
  {
   "cell_type": "code",
   "execution_count": 102,
   "metadata": {},
   "outputs": [],
   "source": [
    "counts = [len(np.where(bin_assignment==class_idx)[0]) for class_idx in range(num_classes)]"
   ]
  },
  {
   "cell_type": "code",
   "execution_count": 103,
   "metadata": {},
   "outputs": [],
   "source": [
    "frequencies = [float(count)/len(t_min) for count in counts]"
   ]
  },
  {
   "cell_type": "code",
   "execution_count": 104,
   "metadata": {},
   "outputs": [
    {
     "name": "stdout",
     "output_type": "stream",
     "text": [
      "['0.19', '0.19', '0.29', '0.10', '0.23']\n"
     ]
    }
   ],
   "source": [
    "print(['%.2f' % freq for freq in frequencies])"
   ]
  },
  {
   "cell_type": "markdown",
   "metadata": {},
   "source": [
    "### Histogramme"
   ]
  },
  {
   "cell_type": "code",
   "execution_count": 106,
   "metadata": {},
   "outputs": [
    {
     "data": {
      "image/png": "[encoded data removed]",
      "text/plain": [
       "<Figure size 432x288 with 1 Axes>"
      ]
     },
     "metadata": {
      "needs_background": "light"
     },
     "output_type": "display_data"
    }
   ],
   "source": [
    "t = plt.hist(t_min, bins=5, density=True)\n",
    "plt.xlabel('T min')\n",
    "plt.ylabel('Fréquence')\n",
    "plt.savefig('../poly/figures/stats/meteo_tmin_hist.png', bbox_inches='tight')"
   ]
  },
  {
   "cell_type": "code",
   "execution_count": 107,
   "metadata": {},
   "outputs": [
    {
     "data": {
      "image/png": "[encoded data removed]",
      "text/plain": [
       "<Figure size 432x288 with 1 Axes>"
      ]
     },
     "metadata": {
      "needs_background": "light"
     },
     "output_type": "display_data"
    }
   ],
   "source": [
    "(y_hist, x_hist, t) = plt.hist(t_min, bins=5, density=True, cumulative=True, histtype='step')"
   ]
  },
  {
   "cell_type": "code",
   "execution_count": 108,
   "metadata": {},
   "outputs": [
    {
     "data": {
      "text/plain": [
       "(array([-2.4 , -0.16,  2.08,  4.32,  6.56,  8.8 ]),\n",
       " array([0.19354839, 0.38709677, 0.67741935, 0.77419355, 1.        ]))"
      ]
     },
     "execution_count": 108,
     "metadata": {},
     "output_type": "execute_result"
    }
   ],
   "source": [
    "x_hist, y_hist"
   ]
  },
  {
   "cell_type": "code",
   "execution_count": 109,
   "metadata": {},
   "outputs": [],
   "source": [
    "y_increasing = [0.]\n",
    "y_increasing.extend(y_hist)"
   ]
  },
  {
   "cell_type": "code",
   "execution_count": 110,
   "metadata": {},
   "outputs": [],
   "source": [
    "y_decreasing = [1.]\n",
    "y_decreasing.extend(1.-y_hist)"
   ]
  },
  {
   "cell_type": "code",
   "execution_count": 111,
   "metadata": {},
   "outputs": [
    {
     "data": {
      "image/png": "[encoded data removed]",
      "text/plain": [
       "<Figure size 432x288 with 1 Axes>"
      ]
     },
     "metadata": {
      "needs_background": "light"
     },
     "output_type": "display_data"
    }
   ],
   "source": [
    "plt.plot(x_hist, y_increasing, marker='o', label='fréquences croissantes')\n",
    "plt.plot(x_hist, y_decreasing, marker='o', label='fréquences décroissantes')\n",
    "plt.legend(loc=(1.1, 0.4))\n",
    "plt.xlabel('T min')\n",
    "plt.ylabel('Fréquence')\n",
    "plt.savefig('../poly/figures/stats/meteo_tmin_cumul_freq.png', bbox_inches='tight')"
   ]
  },
  {
   "cell_type": "markdown",
   "metadata": {},
   "source": [
    "### Indicateurs univariés"
   ]
  },
  {
   "cell_type": "code",
   "execution_count": 112,
   "metadata": {},
   "outputs": [
    {
     "data": {
      "text/plain": [
       "3.222580645161291"
      ]
     },
     "execution_count": 112,
     "metadata": {},
     "output_type": "execute_result"
    }
   ],
   "source": [
    "np.mean(t_min)"
   ]
  },
  {
   "cell_type": "code",
   "execution_count": 113,
   "metadata": {},
   "outputs": [
    {
     "data": {
      "text/plain": [
       "4.0"
      ]
     },
     "execution_count": 113,
     "metadata": {},
     "output_type": "execute_result"
    }
   ],
   "source": [
    "np.median(t_min)"
   ]
  },
  {
   "cell_type": "code",
   "execution_count": 114,
   "metadata": {},
   "outputs": [
    {
     "data": {
      "text/plain": [
       "10.022393340270552"
      ]
     },
     "execution_count": 114,
     "metadata": {},
     "output_type": "execute_result"
    }
   ],
   "source": [
    "np.mean((t_min-np.mean(t_min))**2)"
   ]
  },
  {
   "cell_type": "code",
   "execution_count": 115,
   "metadata": {},
   "outputs": [
    {
     "data": {
      "text/plain": [
       "10.356473118279572"
      ]
     },
     "execution_count": 115,
     "metadata": {},
     "output_type": "execute_result"
    }
   ],
   "source": [
    "np.mean((t_min-np.mean(t_min))**2)*len(t_min)/(len(t_min)-1)"
   ]
  },
  {
   "cell_type": "code",
   "execution_count": 116,
   "metadata": {},
   "outputs": [
    {
     "data": {
      "text/plain": [
       "3.1658163781670208"
      ]
     },
     "execution_count": 116,
     "metadata": {},
     "output_type": "execute_result"
    }
   ],
   "source": [
    "np.sqrt(np.mean((t_min-np.mean(t_min))**2))"
   ]
  },
  {
   "cell_type": "code",
   "execution_count": 117,
   "metadata": {},
   "outputs": [
    {
     "data": {
      "text/plain": [
       "3.2181474668323657"
      ]
     },
     "execution_count": 117,
     "metadata": {},
     "output_type": "execute_result"
    }
   ],
   "source": [
    "np.sqrt(np.mean((t_min-np.mean(t_min))**2)*len(t_min)/(len(t_min)-1))"
   ]
  },
  {
   "cell_type": "code",
   "execution_count": 118,
   "metadata": {},
   "outputs": [
    {
     "data": {
      "text/plain": [
       "array([0.75, 4.  , 5.55])"
      ]
     },
     "execution_count": 118,
     "metadata": {},
     "output_type": "execute_result"
    }
   ],
   "source": [
    "np.quantile(t_min, [0.25, 0.50, 0.75])"
   ]
  },
  {
   "cell_type": "code",
   "execution_count": 119,
   "metadata": {},
   "outputs": [
    {
     "data": {
      "text/plain": [
       "4.0"
      ]
     },
     "execution_count": 119,
     "metadata": {},
     "output_type": "execute_result"
    }
   ],
   "source": [
    "np.median(t_min)"
   ]
  },
  {
   "cell_type": "markdown",
   "metadata": {},
   "source": [
    "### Boxplot"
   ]
  },
  {
   "cell_type": "code",
   "execution_count": 130,
   "metadata": {},
   "outputs": [
    {
     "data": {
      "image/png": "[encoded data removed]",
      "text/plain": [
       "<Figure size 432x288 with 1 Axes>"
      ]
     },
     "metadata": {
      "needs_background": "light"
     },
     "output_type": "display_data"
    }
   ],
   "source": [
    "plt.boxplot(t_min)\n",
    "x = np.random.normal(1, 0.02, size=len(t_min))\n",
    "plot(x, t_min, 'r.', alpha=0.5)\n",
    "#plt.xlabel('T min')\n",
    "#plt.ylabel('Fréquence')\n",
    "plt.savefig('../poly/figures/stats/meteo_tmin_boxplot.png', bbox_inches='tight')"
   ]
  },
  {
   "cell_type": "markdown",
   "metadata": {},
   "source": [
    "### Scatterplots"
   ]
  },
  {
   "cell_type": "code",
   "execution_count": 8,
   "metadata": {},
   "outputs": [],
   "source": [
    "t_max = meteo['t_max']"
   ]
  },
  {
   "cell_type": "code",
   "execution_count": 20,
   "metadata": {},
   "outputs": [
    {
     "data": {
      "image/png": "[encoded data removed]",
      "text/plain": [
       "<Figure size 360x360 with 1 Axes>"
      ]
     },
     "metadata": {
      "needs_background": "light"
     },
     "output_type": "display_data"
    }
   ],
   "source": [
    "fig = plt.figure(figsize=(5, 5))\n",
    "plt.scatter(t_min, t_max)\n",
    "plt.xlim([-3, 13])\n",
    "plt.ylim([-3, 13])\n",
    "plt.xticks(ticks=[-3, 0, 3, 6, 9, 12])\n",
    "t=plt.yticks(ticks=[-3, 0, 3, 6, 9, 12])\n",
    "plt.xlabel('T min')\n",
    "plt.ylabel('T max')\n",
    "plt.savefig('../poly/figures/stats/meteo_tmin_tmax.png', bbox_inches='tight')"
   ]
  },
  {
   "cell_type": "code",
   "execution_count": 38,
   "metadata": {},
   "outputs": [],
   "source": [
    "vent = meteo['vent']"
   ]
  },
  {
   "cell_type": "code",
   "execution_count": 53,
   "metadata": {},
   "outputs": [],
   "source": [
    "t_min_std = (t_min - np.mean(t_min))/np.std(t_min)\n",
    "t_max_std = (t_max - np.mean(t_max))/np.std(t_max)\n",
    "vent_std = (vent - np.mean(vent))/np.std(vent)"
   ]
  },
  {
   "cell_type": "code",
   "execution_count": 45,
   "metadata": {},
   "outputs": [
    {
     "data": {
      "image/png": "[encoded data removed]",
      "text/plain": [
       "<Figure size 360x360 with 1 Axes>"
      ]
     },
     "metadata": {
      "needs_background": "light"
     },
     "output_type": "display_data"
    }
   ],
   "source": [
    "fig = plt.figure(figsize=(5, 5))\n",
    "plt.scatter(t_min_std, vent_std)\n",
    "plt.xlim([-2, 2])\n",
    "plt.ylim([-2, 2])\n",
    "plt.xticks(ticks=[-2, 0, 2])\n",
    "t=plt.yticks(ticks=[-2, 0, 2])\n",
    "plt.xlabel('T min')\n",
    "plt.ylabel('Vent')\n",
    "plt.savefig('../poly/figures/stats/meteo_tmin_vent.png', bbox_inches='tight')"
   ]
  },
  {
   "cell_type": "markdown",
   "metadata": {},
   "source": [
    "### Correlations"
   ]
  },
  {
   "cell_type": "code",
   "execution_count": 67,
   "metadata": {},
   "outputs": [
    {
     "name": "stdout",
     "output_type": "stream",
     "text": [
      "Covariance(t_min, t_max) = 7.69\n"
     ]
    }
   ],
   "source": [
    "print(\"Covariance(t_min, t_max) = %.2f\" % np.mean((t_min - np.mean(t_min))*(t_max - np.mean(t_max))))"
   ]
  },
  {
   "cell_type": "code",
   "execution_count": 68,
   "metadata": {},
   "outputs": [
    {
     "name": "stdout",
     "output_type": "stream",
     "text": [
      "Pearson(t_min, t_max) = 0.91\n"
     ]
    }
   ],
   "source": [
    "print(\"Pearson(t_min, t_max) = %.2f\" % st.pearsonr(t_min, t_max)[0])"
   ]
  },
  {
   "cell_type": "code",
   "execution_count": 69,
   "metadata": {},
   "outputs": [
    {
     "name": "stdout",
     "output_type": "stream",
     "text": [
      "Pearson(t_min, vent) = 0.28\n"
     ]
    }
   ],
   "source": [
    "print(\"Pearson(t_min, vent) = %.2f\" % st.pearsonr(t_min, vent)[0])"
   ]
  },
  {
   "cell_type": "code",
   "execution_count": 79,
   "metadata": {},
   "outputs": [],
   "source": [
    "x = np.random.random(size=(100,))"
   ]
  },
  {
   "cell_type": "code",
   "execution_count": 80,
   "metadata": {},
   "outputs": [],
   "source": [
    "y =  np.random.random(size=(100,))"
   ]
  },
  {
   "cell_type": "code",
   "execution_count": 97,
   "metadata": {},
   "outputs": [
    {
     "name": "stdout",
     "output_type": "stream",
     "text": [
      "r(x, y) = -0.02\n"
     ]
    },
    {
     "data": {
      "image/png": "[encoded data removed]",
      "text/plain": [
       "<Figure size 360x360 with 1 Axes>"
      ]
     },
     "metadata": {
      "needs_background": "light"
     },
     "output_type": "display_data"
    }
   ],
   "source": [
    "fig = plt.figure(figsize=(5, 5))\n",
    "plt.scatter(x, y)\n",
    "plt.xlim([0, 1])\n",
    "plt.ylim([0, 1])\n",
    "plt.xticks(ticks=[0., 0.25, 0.50, 0.75, 1.00])\n",
    "t=plt.yticks(ticks=[0., 0.25, 0.50, 0.75, 1.00])\n",
    "plt.xlabel('$x$')\n",
    "t=plt.ylabel('$y$')\n",
    "plt.savefig('../poly/figures/stats/pearson_0.png', bbox_inches='tight')\n",
    "print(\"r(x, y) = %.2f\" % (st.pearsonr(x, y)[0]))"
   ]
  },
  {
   "cell_type": "code",
   "execution_count": 104,
   "metadata": {},
   "outputs": [],
   "source": [
    "y = x + 0.1 * (np.random.random(size=(100,))-0.5)"
   ]
  },
  {
   "cell_type": "code",
   "execution_count": 105,
   "metadata": {},
   "outputs": [
    {
     "name": "stdout",
     "output_type": "stream",
     "text": [
      "r(x, y) = 1.00\n"
     ]
    },
    {
     "data": {
      "image/png": "[encoded data removed]",
      "text/plain": [
       "<Figure size 360x360 with 1 Axes>"
      ]
     },
     "metadata": {
      "needs_background": "light"
     },
     "output_type": "display_data"
    }
   ],
   "source": [
    "fig = plt.figure(figsize=(5, 5))\n",
    "plt.scatter(x, y)\n",
    "plt.xlim([0, 1])\n",
    "plt.ylim([0, 1])\n",
    "plt.xticks(ticks=[0., 0.25, 0.50, 0.75, 1.00])\n",
    "t=plt.yticks(ticks=[0., 0.25, 0.50, 0.75, 1.00])\n",
    "plt.xlabel('$x$')\n",
    "t=plt.ylabel('$y$')\n",
    "print(\"r(x, y) = %.2f\" % (st.pearsonr(x, y)[0]))\n",
    "plt.savefig('../poly/figures/stats/pearson_1.png', bbox_inches='tight')"
   ]
  },
  {
   "cell_type": "code",
   "execution_count": 115,
   "metadata": {},
   "outputs": [],
   "source": [
    "y = x + 2*(np.random.random(size=(100,))-0.5)"
   ]
  },
  {
   "cell_type": "code",
   "execution_count": 117,
   "metadata": {},
   "outputs": [
    {
     "name": "stdout",
     "output_type": "stream",
     "text": [
      "r(x, y) = 0.52\n"
     ]
    },
    {
     "data": {
      "image/png": "[encoded data removed]",
      "text/plain": [
       "<Figure size 360x360 with 1 Axes>"
      ]
     },
     "metadata": {
      "needs_background": "light"
     },
     "output_type": "display_data"
    }
   ],
   "source": [
    "fig = plt.figure(figsize=(5, 5))\n",
    "plt.scatter(x, y)\n",
    "plt.xlim([0, 1])\n",
    "plt.ylim([0, 1])\n",
    "plt.xticks(ticks=[0., 0.25, 0.50, 0.75, 1.00])\n",
    "t=plt.yticks(ticks=[0., 0.25, 0.50, 0.75, 1.00])\n",
    "plt.xlabel('$x$')\n",
    "t=plt.ylabel('$y$')\n",
    "print(\"r(x, y) = %.2f\" % (st.pearsonr(x, y)[0]))\n",
    "plt.savefig('../poly/figures/stats/pearson_2.png', bbox_inches='tight')"
   ]
  },
  {
   "cell_type": "code",
   "execution_count": 119,
   "metadata": {},
   "outputs": [],
   "source": [
    "y = - x + 0.1 * (np.random.random(size=(100,))-0.5)"
   ]
  },
  {
   "cell_type": "code",
   "execution_count": 122,
   "metadata": {},
   "outputs": [
    {
     "name": "stdout",
     "output_type": "stream",
     "text": [
      "r(x, y) = -1.00\n"
     ]
    },
    {
     "data": {
      "image/png": "[encoded data removed]",
      "text/plain": [
       "<Figure size 360x360 with 1 Axes>"
      ]
     },
     "metadata": {
      "needs_background": "light"
     },
     "output_type": "display_data"
    }
   ],
   "source": [
    "fig = plt.figure(figsize=(5, 5))\n",
    "plt.scatter(x, y)\n",
    "#plt.xlim([0, 1])\n",
    "#plt.ylim([0, 1])\n",
    "plt.xticks(ticks=[0., 0.25, 0.50, 0.75, 1.00])\n",
    "t=plt.yticks(ticks=[-1.00, -0.75, -0.50, -0.25, 0.])\n",
    "plt.xlabel('$x$')\n",
    "t=plt.ylabel('$y$')\n",
    "print(\"r(x, y) = %.2f\" % (st.pearsonr(x, y)[0]))\n",
    "plt.savefig('../poly/figures/stats/pearson_3.png', bbox_inches='tight')"
   ]
  },
  {
   "cell_type": "code",
   "execution_count": null,
   "metadata": {},
   "outputs": [],
   "source": []
  }
 ],
 "metadata": {
  "kernelspec": {
   "display_name": "Python 3",
   "language": "python",
   "name": "python3"
  },
  "language_info": {
   "codemirror_mode": {
    "name": "ipython",
    "version": 3
   },
   "file_extension": ".py",
   "mimetype": "text/x-python",
   "name": "python",
   "nbconvert_exporter": "python",
   "pygments_lexer": "ipython3",
   "version": "3.7.4"
  }
 },
 "nbformat": 4,
 "nbformat_minor": 4
}
